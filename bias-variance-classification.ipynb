{
 "cells": [
  {
   "cell_type": "markdown",
   "id": "78b2783f-2cfc-4b36-9aae-46b2572a0860",
   "metadata": {},
   "source": [
    "### Bias-Variance Decomposition (Classification)\n",
    "\n",
    "This notebook experiments with the decomposition of the performance error of several classifiers to its bias and variance components."
   ]
  },
  {
   "cell_type": "code",
   "execution_count": 20,
   "id": "6f25d9a8-e808-42c0-af91-e92038c03371",
   "metadata": {},
   "outputs": [],
   "source": [
    "from mlxtend.data import iris_data\n",
    "from mlxtend.evaluate import bias_variance_decomp\n",
    "from sklearn.model_selection import train_test_split\n",
    "from sklearn.neighbors import KNeighborsClassifier\n",
    "from sklearn.naive_bayes import GaussianNB\n",
    "from sklearn.linear_model import LogisticRegression\n",
    "from sklearn.tree import DecisionTreeClassifier\n",
    "from sklearn.ensemble import RandomForestClassifier, BaggingClassifier"
   ]
  },
  {
   "cell_type": "code",
   "execution_count": 22,
   "id": "c031ceff-57d7-4b34-b4b9-79f88cce03a1",
   "metadata": {},
   "outputs": [
    {
     "name": "stdout",
     "output_type": "stream",
     "text": [
      "Average expected loss: 0.055\n",
      "Average bias: 0.044\n",
      "Average variance: 0.034\n"
     ]
    }
   ],
   "source": [
    "# dataset\n",
    "X, y = iris_data() # load features and labels\n",
    "\n",
    "# split to train/test\n",
    "X_train, X_test, y_train, y_test = train_test_split(\n",
    "    X,\n",
    "    y,\n",
    "    test_size=0.3,\n",
    "    random_state=123,\n",
    "    shuffle=True,\n",
    "    stratify=y\n",
    ")\n",
    "\n",
    "# classifiers\n",
    "tree = DecisionTreeClassifier(random_state=123)\n",
    "forest = RandomForestClassifier(random_state=123)\n",
    "bag = BaggingClassifier(base_estimator=tree,n_estimators=100,random_state=123)\n",
    "log = LogisticRegression(multi_class='multinomial', solver='newton-cg')\n",
    "nbayes = GaussianNB()\n",
    "knn = KNeighborsClassifier()\n",
    "\n",
    "# loss\n",
    "avg_expected_loss, avg_bias, avg_var = bias_variance_decomp(\n",
    "    knn,\n",
    "    X_train,\n",
    "    y_train,\n",
    "    X_test,\n",
    "    y_test, \n",
    "    loss='0-1_loss',\n",
    "    random_seed=123\n",
    ")\n",
    "\n",
    "# prints\n",
    "print('Average expected loss: %.3f' % avg_expected_loss)\n",
    "print('Average bias: %.3f' % avg_bias)\n",
    "print('Average variance: %.3f' % avg_var)"
   ]
  },
  {
   "cell_type": "code",
   "execution_count": null,
   "id": "d66affcd-03f0-4e33-bd3f-80a60bb29de9",
   "metadata": {},
   "outputs": [],
   "source": []
  }
 ],
 "metadata": {
  "kernelspec": {
   "display_name": "Python 3 (ipykernel)",
   "language": "python",
   "name": "python3"
  },
  "language_info": {
   "codemirror_mode": {
    "name": "ipython",
    "version": 3
   },
   "file_extension": ".py",
   "mimetype": "text/x-python",
   "name": "python",
   "nbconvert_exporter": "python",
   "pygments_lexer": "ipython3",
   "version": "3.10.2"
  }
 },
 "nbformat": 4,
 "nbformat_minor": 5
}
