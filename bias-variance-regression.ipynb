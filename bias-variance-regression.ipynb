{
 "cells": [
  {
   "cell_type": "markdown",
   "id": "78b2783f-2cfc-4b36-9aae-46b2572a0860",
   "metadata": {},
   "source": [
    "### Bias-Variance Decomposition (Regression)\n",
    "\n",
    "This notebook experiments with the decomposition of the performance error of several regression algorithms to its bias and variance components."
   ]
  },
  {
   "cell_type": "code",
   "execution_count": 10,
   "id": "6f25d9a8-e808-42c0-af91-e92038c03371",
   "metadata": {},
   "outputs": [],
   "source": [
    "from mlxtend.data import boston_housing_data\n",
    "from mlxtend.evaluate import bias_variance_decomp\n",
    "from sklearn.model_selection import train_test_split\n",
    "from sklearn.linear_model import LinearRegression\n",
    "from sklearn.tree import DecisionTreeRegressor\n",
    "from sklearn.ensemble import RandomForestRegressor, BaggingRegressor"
   ]
  },
  {
   "cell_type": "code",
   "execution_count": 11,
   "id": "c031ceff-57d7-4b34-b4b9-79f88cce03a1",
   "metadata": {},
   "outputs": [
    {
     "name": "stdout",
     "output_type": "stream",
     "text": [
      "Average expected loss: 29.891\n",
      "Average bias: 28.609\n",
      "Average variance: 1.282\n"
     ]
    }
   ],
   "source": [
    "# dataset\n",
    "X, y = boston_housing_data() # load features, labels\n",
    "\n",
    "# split to train/test\n",
    "X_train, X_test, y_train, y_test = train_test_split(\n",
    "    X, \n",
    "    y,\n",
    "    test_size=0.3,                                                   \n",
    "    random_state=123,                                                  \n",
    "    shuffle=True\n",
    ")\n",
    "\n",
    "# regression models\n",
    "lr = LinearRegression()\n",
    "tree = DecisionTreeRegressor(random_state=123)\n",
    "forest = RandomForestRegressor(random_state=123)\n",
    "bag = BaggingRegressor(\n",
    "    base_estimator=tree,\n",
    "    n_estimators=100,\n",
    "    random_state=123\n",
    ")\n",
    "\n",
    "# decomposition\n",
    "avg_expected_loss, avg_bias, avg_var = bias_variance_decomp(\n",
    "    lr,\n",
    "    X_train,\n",
    "    y_train,\n",
    "    X_test,\n",
    "    y_test, \n",
    "    loss='mse',\n",
    "    random_seed=123\n",
    ")\n",
    "\n",
    "# prints\n",
    "print('Average expected loss: %.3f' % avg_expected_loss)\n",
    "print('Average bias: %.3f' % avg_bias)\n",
    "print('Average variance: %.3f' % avg_var)"
   ]
  },
  {
   "cell_type": "code",
   "execution_count": null,
   "id": "d66affcd-03f0-4e33-bd3f-80a60bb29de9",
   "metadata": {},
   "outputs": [],
   "source": []
  }
 ],
 "metadata": {
  "kernelspec": {
   "display_name": "Python 3 (ipykernel)",
   "language": "python",
   "name": "python3"
  },
  "language_info": {
   "codemirror_mode": {
    "name": "ipython",
    "version": 3
   },
   "file_extension": ".py",
   "mimetype": "text/x-python",
   "name": "python",
   "nbconvert_exporter": "python",
   "pygments_lexer": "ipython3",
   "version": "3.10.2"
  }
 },
 "nbformat": 4,
 "nbformat_minor": 5
}
